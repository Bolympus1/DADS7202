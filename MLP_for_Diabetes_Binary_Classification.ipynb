{
 "cells": [
  {
   "cell_type": "markdown",
   "metadata": {
    "id": "Am8MiduBQF7w"
   },
   "source": [
    "# 1. Prepare the environment"
   ]
  },
  {
   "cell_type": "code",
   "execution_count": null,
   "metadata": {
    "colab": {
     "base_uri": "https://localhost:8080/",
     "height": 0
    },
    "executionInfo": {
     "elapsed": 318,
     "status": "ok",
     "timestamp": 1642843625610,
     "user": {
      "displayName": "Asst.Prof.Thitirat Siriborvornratanakul, Ph.D.",
      "photoUrl": "https://lh3.googleusercontent.com/a/default-user=s64",
      "userId": "09865530809550282356"
     },
     "user_tz": -420
    },
    "id": "dP0wi2yRP46L",
    "outputId": "3f170a7f-2744-4787-b851-974a022101f7"
   },
   "outputs": [],
   "source": [
    "# List all NVIDIA GPUs as avaialble in this computer (or Colab's session)\n",
    "!nvidia-smi -L"
   ]
  },
  {
   "cell_type": "code",
   "execution_count": null,
   "metadata": {
    "colab": {
     "base_uri": "https://localhost:8080/",
     "height": 0
    },
    "executionInfo": {
     "elapsed": 2672,
     "status": "ok",
     "timestamp": 1642843628627,
     "user": {
      "displayName": "Asst.Prof.Thitirat Siriborvornratanakul, Ph.D.",
      "photoUrl": "https://lh3.googleusercontent.com/a/default-user=s64",
      "userId": "09865530809550282356"
     },
     "user_tz": -420
    },
    "id": "lml-duVyQK78",
    "outputId": "b201eb23-1882-40f3-e112-2002f1aa0e88"
   },
   "outputs": [],
   "source": [
    "import sys\n",
    "print( f\"Python {sys.version}\\n\" )\n",
    "\n",
    "import numpy as np\n",
    "print( f\"NumPy {np.__version__}\\n\" )\n",
    "\n",
    "import pandas as pd\n",
    "print( f\"Pandas {pd.__version__}\\n\" )\n",
    "\n",
    "import matplotlib.pyplot as plt\n",
    "%matplotlib inline\n",
    "\n",
    "import tensorflow as tf\n",
    "print( f\"TensorFlow {tf.__version__}\" )\n",
    "print( f\"tf.keras.backend.image_data_format() = {tf.keras.backend.image_data_format()}\" )\n",
    "\n",
    "# Count the number of GPUs as detected by tensorflow\n",
    "gpus = tf.config.list_physical_devices('GPU')\n",
    "print( f\"TensorFlow detected { len(gpus) } GPU(s):\" )\n",
    "for i, gpu in enumerate(gpus):\n",
    "  print( f\".... GPU No. {i}: Name = {gpu.name} , Type = {gpu.device_type}\" )"
   ]
  },
  {
   "cell_type": "code",
   "execution_count": null,
   "metadata": {},
   "outputs": [],
   "source": [
    "import pandas as pd\n",
    "import numpy as np\n",
    "import matplotlib as mpl\n",
    "import matplotlib.pyplot as plt\n",
    "import seaborn as sns\n",
    "from sklearn.preprocessing import StandardScaler\n",
    "from sklearn.feature_selection import RFE\n",
    "from sklearn.linear_model import LogisticRegression\n",
    "from sklearn.tree import DecisionTreeClassifier\n",
    "from sklearn.svm import SVR\n",
    "from sklearn.neural_network import MLPClassifier\n",
    "from sklearn.metrics import classification_report,confusion_matrix\n",
    "from sklearn.model_selection import train_test_split\n",
    "from sklearn.metrics import accuracy_score\n",
    "from sklearn.metrics import precision_recall_fscore_support"
   ]
  },
  {
   "cell_type": "markdown",
   "metadata": {
    "id": "QsNLz02cTzDS"
   },
   "source": [
    "# 2. Prepare the data in NumPy \n",
    "\n",
    "\n",
    "1. Load train and test data\n",
    "2. Data preprocessing\n",
    "3. Format the data (e.g, shape, dtype) to suit with the model's requirement (e.g., MLP)"
   ]
  },
  {
   "cell_type": "code",
   "execution_count": null,
   "metadata": {
    "executionInfo": {
     "elapsed": 6,
     "status": "ok",
     "timestamp": 1642843628627,
     "user": {
      "displayName": "Asst.Prof.Thitirat Siriborvornratanakul, Ph.D.",
      "photoUrl": "https://lh3.googleusercontent.com/a/default-user=s64",
      "userId": "09865530809550282356"
     },
     "user_tz": -420
    },
    "id": "F8LiRMTQUVKY"
   },
   "outputs": [],
   "source": [
    "# Set fixed seeding values for reproducability during experiments\n",
    "# Skip this cell if random initialization (with varied results) is needed\n",
    "url = 'https://raw.githubusercontent.com/Bolympus1/DADS7202/main/diabetes_binary_health_indicators_BRFSS2015.csv'\n",
    "\n",
    "df = pd.read_csv(url,sep=\",\")\n",
    "df.head()"
   ]
  },
  {
   "cell_type": "code",
   "execution_count": null,
   "metadata": {},
   "outputs": [],
   "source": [
    "# Histrogramsns.set_theme(style=\"white\",palette=\"pastel\")\n",
    "df.hist(figsize=(20,15));"
   ]
  },
  {
   "cell_type": "code",
   "execution_count": null,
   "metadata": {},
   "outputs": [],
   "source": [
    "plt.figure(figsize = (15,28))\n",
    "for i,col in enumerate(df.loc[:,df.columns != 'Diabetes_binary']):\n",
    "  plt.subplot(7,3,i+1)\n",
    "  sns.boxplot(x = col, data = df)\n",
    "plt.show()"
   ]
  },
  {
   "cell_type": "markdown",
   "metadata": {},
   "source": [
    "Oversampling"
   ]
  },
  {
   "cell_type": "code",
   "execution_count": null,
   "metadata": {},
   "outputs": [],
   "source": [
    "X = df.loc[:,df.columns != 'Diabetes_binary']\n",
    "y = df['Diabetes_binary']\n",
    "print( X.columns )\n",
    "print( X.shape )"
   ]
  },
  {
   "cell_type": "code",
   "execution_count": null,
   "metadata": {},
   "outputs": [],
   "source": [
    "## SMOTEENN\n",
    "## Combine over- and under-sampling using SMOTE and Edited Nearest Neighbours.\n",
    "\n",
    "from imblearn.combine import SMOTEENN\n",
    "smote_enn = SMOTEENN(random_state=0)\n",
    "X_resampled, y_resampled = smote_enn.fit_resample(X, y)"
   ]
  },
  {
   "cell_type": "code",
   "execution_count": null,
   "metadata": {},
   "outputs": [],
   "source": [
    "df_resampled = pd.concat([pd.DataFrame(y_resampled), pd.DataFrame(X_resampled)], axis=1)"
   ]
  },
  {
   "cell_type": "code",
   "execution_count": null,
   "metadata": {},
   "outputs": [],
   "source": [
    "df_resampled['Diabetes_binary'].value_counts().plot.pie(autopct='%.2f')\n",
    "print(df_resampled['Diabetes_binary'].value_counts()) # 290,010"
   ]
  },
  {
   "cell_type": "code",
   "execution_count": null,
   "metadata": {},
   "outputs": [],
   "source": [
    "df = df_resampled"
   ]
  },
  {
   "cell_type": "code",
   "execution_count": null,
   "metadata": {},
   "outputs": [],
   "source": [
    "x = df.iloc[:,1:].to_numpy()\n",
    "y = df.iloc[:,:1].to_numpy().squeeze()"
   ]
  },
  {
   "cell_type": "code",
   "execution_count": null,
   "metadata": {},
   "outputs": [],
   "source": [
    "x_train, x_test, y_train, y_test = train_test_split(x, y, test_size=0.2, random_state=35) #80/20"
   ]
  },
  {
   "cell_type": "code",
   "execution_count": null,
   "metadata": {},
   "outputs": [],
   "source": [
    "x_train.shape, y_train.shape, x_test.shape, y_test.shape"
   ]
  },
  {
   "cell_type": "code",
   "execution_count": null,
   "metadata": {
    "executionInfo": {
     "elapsed": 6,
     "status": "ok",
     "timestamp": 1642843628627,
     "user": {
      "displayName": "Asst.Prof.Thitirat Siriborvornratanakul, Ph.D.",
      "photoUrl": "https://lh3.googleusercontent.com/a/default-user=s64",
      "userId": "09865530809550282356"
     },
     "user_tz": -420
    },
    "id": "WmSKh9VecnFS"
   },
   "outputs": [],
   "source": [
    "input_dim = 21     # the number of features per one input\n",
    "output_dim = 1     # the number of output classes"
   ]
  },
  {
   "cell_type": "code",
   "execution_count": null,
   "metadata": {
    "colab": {
     "base_uri": "https://localhost:8080/",
     "height": 0
    },
    "executionInfo": {
     "elapsed": 4,
     "status": "ok",
     "timestamp": 1642843628628,
     "user": {
      "displayName": "Asst.Prof.Thitirat Siriborvornratanakul, Ph.D.",
      "photoUrl": "https://lh3.googleusercontent.com/a/default-user=s64",
      "userId": "09865530809550282356"
     },
     "user_tz": -420
    },
    "id": "KMpjtUWRZhe6",
    "outputId": "19b850f9-c053-42ce-ffb6-f48bad569f96"
   },
   "outputs": [],
   "source": [
    "# Data format: data type\n",
    "# Most DL frameworks use float32 as a default data type\n",
    "x_train = x_train.astype(np.float32)\n",
    "x_test = x_test.astype(np.float32)\n",
    "\n",
    "print( f\"x_train.shape={x_train.shape} , x_train.dtype={x_train.dtype} , min(x_train)={np.min(x_train)} , max(x_train)={np.max(x_train)}\" )\n",
    "print( f\"x_test.shape={x_test.shape} , x_test.dtype={x_test.dtype} , min(x_test)={np.min(x_test)} , max(x_test)={np.max(x_test)}\" )"
   ]
  },
  {
   "cell_type": "markdown",
   "metadata": {
    "id": "bxZpE_g2bsUd"
   },
   "source": [
    "# 3. Create the network architecture"
   ]
  },
  {
   "cell_type": "code",
   "execution_count": null,
   "metadata": {
    "colab": {
     "base_uri": "https://localhost:8080/",
     "height": 0
    },
    "executionInfo": {
     "elapsed": 542,
     "status": "ok",
     "timestamp": 1642843629166,
     "user": {
      "displayName": "Asst.Prof.Thitirat Siriborvornratanakul, Ph.D.",
      "photoUrl": "https://lh3.googleusercontent.com/a/default-user=s64",
      "userId": "09865530809550282356"
     },
     "user_tz": -420
    },
    "id": "nxIMT-CibwPB",
    "outputId": "4e56b473-e14c-4fe0-f11f-f54456df828e"
   },
   "outputs": [],
   "source": [
    "model = tf.keras.models.Sequential()\n",
    "\n",
    "# Input layer\n",
    "model.add( tf.keras.Input(shape=(input_dim,)) )\n",
    "\n",
    "# Hidden layer\n",
    "model.add( tf.keras.layers.Dense(512, activation='relu', name='hidden1') )   # use default weight initialization, don't use any regularization\n",
    "model.add( tf.keras.layers.BatchNormalization(axis=-1, name='bn1') )  \n",
    "model.add( tf.keras.layers.Dense(1024, activation='relu', name='hidden2') )   # use default weight initialization, don't use any regularization\n",
    "model.add( tf.keras.layers.BatchNormalization(axis=-1, name='bn2') )\n",
    "model.add( tf.keras.layers.Dense(64, activation='relu', name='hidden3') )   # use default weight initialization, don't use any regularization\n",
    "model.add( tf.keras.layers.BatchNormalization(axis=-1, name='bn3') )\n",
    "model.add( tf.keras.layers.Dense(32, activation='relu', name='hidden4') )   # use default weight initialization, don't use any regularization\n",
    "model.add( tf.keras.layers.BatchNormalization(axis=-1, name='bn4') )\n",
    "model.add( tf.keras.layers.Dense(512, activation='relu', name='hidden5') )   # use default weight initialization, don't use any regularization\n",
    "model.add( tf.keras.layers.BatchNormalization(axis=-1, name='bn5') )\n",
    "model.add( tf.keras.layers.Dense(512, activation='relu', name='hidden6') )   # use default weight initialization, don't use any regularization\n",
    "model.add( tf.keras.layers.BatchNormalization(axis=-1, name='bn6') )\n",
    "model.add( tf.keras.layers.Dropout(0.2) )                        # drop rate = 10%\n",
    "\n",
    "# Output layer\n",
    "model.add( tf.keras.layers.Dense(output_dim, activation='sigmoid', name='output') )\n",
    "\n",
    "model.summary()"
   ]
  },
  {
   "cell_type": "markdown",
   "metadata": {
    "id": "cgkFrrPKrY_1"
   },
   "source": [
    "# 4. Compile the model\n",
    "\n",
    "Examples of compiling the model (only run one cell provided below)"
   ]
  },
  {
   "cell_type": "code",
   "execution_count": null,
   "metadata": {
    "executionInfo": {
     "elapsed": 2,
     "status": "ok",
     "timestamp": 1642843629166,
     "user": {
      "displayName": "Asst.Prof.Thitirat Siriborvornratanakul, Ph.D.",
      "photoUrl": "https://lh3.googleusercontent.com/a/default-user=s64",
      "userId": "09865530809550282356"
     },
     "user_tz": -420
    },
    "id": "is-9uPIdq-7Y"
   },
   "outputs": [],
   "source": [
    "# Compile + hyperparameter tuning\n",
    "model.compile( optimizer=tf.keras.optimizers.Adam(learning_rate=0.0001) , \n",
    "                       loss=\"binary_crossentropy\",\n",
    "                       metrics=['acc'] \n",
    "                     )"
   ]
  },
  {
   "cell_type": "code",
   "execution_count": null,
   "metadata": {},
   "outputs": [],
   "source": [
    "from datetime import datetime\n",
    "start_time = datetime.now()"
   ]
  },
  {
   "cell_type": "markdown",
   "metadata": {
    "id": "lFJlaBtNrnLs"
   },
   "source": [
    "# 5. Train the model on train set"
   ]
  },
  {
   "cell_type": "code",
   "execution_count": null,
   "metadata": {
    "executionInfo": {
     "elapsed": 2,
     "status": "ok",
     "timestamp": 1642843629166,
     "user": {
      "displayName": "Asst.Prof.Thitirat Siriborvornratanakul, Ph.D.",
      "photoUrl": "https://lh3.googleusercontent.com/a/default-user=s64",
      "userId": "09865530809550282356"
     },
     "user_tz": -420
    },
    "id": "AgYUwlCPzkVx"
   },
   "outputs": [],
   "source": [
    "checkpoint_filepath = \"bestmodel_epoch{epoch:02d}_valloss{val_loss:.2f}.hdf5\"\n",
    "model_checkpoint_callback = tf.keras.callbacks.ModelCheckpoint( filepath=checkpoint_filepath,\n",
    "                                                                                              save_weights_only=True,\n",
    "                                                                                              monitor='val_acc',\n",
    "                                                                                              mode='max',\n",
    "                                                                                              save_best_only=True)"
   ]
  },
  {
   "cell_type": "code",
   "execution_count": null,
   "metadata": {
    "colab": {
     "base_uri": "https://localhost:8080/",
     "height": 0
    },
    "executionInfo": {
     "elapsed": 11201,
     "status": "ok",
     "timestamp": 1642843640365,
     "user": {
      "displayName": "Asst.Prof.Thitirat Siriborvornratanakul, Ph.D.",
      "photoUrl": "https://lh3.googleusercontent.com/a/default-user=s64",
      "userId": "09865530809550282356"
     },
     "user_tz": -420
    },
    "id": "OLCsnBIirRIE",
    "outputId": "c00021fc-ddef-4654-89fc-766b17c0d6ab"
   },
   "outputs": [],
   "source": [
    "history = model.fit ( x_train, y_train, batch_size=512, epochs=300, verbose=1, validation_split=0.2, callbacks=[model_checkpoint_callback] )"
   ]
  },
  {
   "cell_type": "code",
   "execution_count": null,
   "metadata": {},
   "outputs": [],
   "source": [
    "end_time = datetime.now()\n",
    "print('Duration: {}'.format(end_time - start_time))"
   ]
  },
  {
   "cell_type": "code",
   "execution_count": null,
   "metadata": {
    "colab": {
     "base_uri": "https://localhost:8080/",
     "height": 0
    },
    "executionInfo": {
     "elapsed": 11,
     "status": "ok",
     "timestamp": 1642843640366,
     "user": {
      "displayName": "Asst.Prof.Thitirat Siriborvornratanakul, Ph.D.",
      "photoUrl": "https://lh3.googleusercontent.com/a/default-user=s64",
      "userId": "09865530809550282356"
     },
     "user_tz": -420
    },
    "id": "AOhRsHsoz8EH",
    "outputId": "453af35c-8b39-4db3-b804-6393a4004063"
   },
   "outputs": [],
   "source": [
    "# Inspect the saved files (sorted by modification date, newest first)\n",
    "!ls -lt"
   ]
  },
  {
   "cell_type": "code",
   "execution_count": null,
   "metadata": {
    "colab": {
     "base_uri": "https://localhost:8080/",
     "height": 0
    },
    "executionInfo": {
     "elapsed": 3,
     "status": "ok",
     "timestamp": 1642843640366,
     "user": {
      "displayName": "Asst.Prof.Thitirat Siriborvornratanakul, Ph.D.",
      "photoUrl": "https://lh3.googleusercontent.com/a/default-user=s64",
      "userId": "09865530809550282356"
     },
     "user_tz": -420
    },
    "id": "G0YfCYUfxNAG",
    "outputId": "4aa7b1ae-0687-4eb2-c986-1ec6fcd24164"
   },
   "outputs": [],
   "source": [
    "# Check the keys in 'history'\n",
    "history.history.keys()"
   ]
  },
  {
   "cell_type": "code",
   "execution_count": null,
   "metadata": {
    "colab": {
     "base_uri": "https://localhost:8080/",
     "height": 683
    },
    "executionInfo": {
     "elapsed": 843,
     "status": "ok",
     "timestamp": 1642843641207,
     "user": {
      "displayName": "Asst.Prof.Thitirat Siriborvornratanakul, Ph.D.",
      "photoUrl": "https://lh3.googleusercontent.com/a/default-user=s64",
      "userId": "09865530809550282356"
     },
     "user_tz": -420
    },
    "id": "qJI8gZn1rpAr",
    "outputId": "f47b94c4-5f30-410d-f1e3-1b1bea8ba038"
   },
   "outputs": [],
   "source": [
    "# Summarize history for accuracy\n",
    "plt.figure(figsize=(15,5))\n",
    "plt.plot(history.history['acc'])\n",
    "plt.plot(history.history['val_acc'])\n",
    "plt.title('Train accuracy')\n",
    "plt.ylabel('accuracy')\n",
    "plt.xlabel('epoch')\n",
    "plt.legend(['train', 'val'], loc='upper left')\n",
    "plt.grid()\n",
    "plt.show()\n",
    "\n",
    "# Summarize history for loss\n",
    "plt.figure(figsize=(15,5))\n",
    "plt.plot(history.history['loss'])\n",
    "plt.plot(history.history['val_loss'])\n",
    "plt.title('Train loss')\n",
    "plt.ylabel('loss')\n",
    "plt.xlabel('epoch')\n",
    "plt.legend(['train', 'val'], loc='upper right')\n",
    "plt.grid()\n",
    "plt.show()"
   ]
  },
  {
   "cell_type": "markdown",
   "metadata": {
    "id": "1MXnuVPvuNqh"
   },
   "source": [
    "# 6. Evaluate the model on test set"
   ]
  },
  {
   "cell_type": "code",
   "execution_count": null,
   "metadata": {
    "colab": {
     "base_uri": "https://localhost:8080/",
     "height": 0
    },
    "executionInfo": {
     "elapsed": 6,
     "status": "ok",
     "timestamp": 1642843641207,
     "user": {
      "displayName": "Asst.Prof.Thitirat Siriborvornratanakul, Ph.D.",
      "photoUrl": "https://lh3.googleusercontent.com/a/default-user=s64",
      "userId": "09865530809550282356"
     },
     "user_tz": -420
    },
    "id": "weZoYwx7uQpE",
    "outputId": "409d6aa9-489c-46ee-9b57-37fb07d86250"
   },
   "outputs": [],
   "source": [
    "results = model.evaluate(x_test, y_test, batch_size=512)\n",
    "print( f\"{model.metrics_names} = {results}\" )"
   ]
  },
  {
   "cell_type": "markdown",
   "metadata": {
    "id": "_uNX2_0luetg"
   },
   "source": [
    "# 7. Inference"
   ]
  },
  {
   "cell_type": "code",
   "execution_count": null,
   "metadata": {
    "colab": {
     "base_uri": "https://localhost:8080/",
     "height": 0
    },
    "executionInfo": {
     "elapsed": 4,
     "status": "ok",
     "timestamp": 1642843641207,
     "user": {
      "displayName": "Asst.Prof.Thitirat Siriborvornratanakul, Ph.D.",
      "photoUrl": "https://lh3.googleusercontent.com/a/default-user=s64",
      "userId": "09865530809550282356"
     },
     "user_tz": -420
    },
    "id": "1J8GjHggug8U",
    "outputId": "0b712c6c-0f6b-4924-a24c-868c8ad0dab9"
   },
   "outputs": [],
   "source": [
    "# Test using the model on x_test[i]\n",
    "i = 0\n",
    "y_pred = model.predict( x_test[i].reshape(1,-1) )    # reshape x_test[i] from (n_feature,) to (1, n_feature)\n",
    "\n",
    "print( f\"{'#'*10} Input: x_test[{i}] {'#'*10}\" )\n",
    "print( f\"shape={x_test[i].shape}\\nvalue={x_test[i]}\\n\" )\n",
    "\n",
    "print( f\"{'#'*10} Ground truth: y_test[{i}] {'#'*10}\" )\n",
    "print( f\"shape={y_test[i].shape}\\nvalue={y_test[i]}\\n\" )\n",
    "\n",
    "print( f\"{'#'*10} Prediction: y_pred {'#'*10}\" )\n",
    "print( f\"type={type(y_pred)}\\ndtype={y_pred.dtype}\\nshape={y_pred.shape}\" )\n",
    "print( f\"value={y_pred}\" )\n",
    "print( f\"np.argmax(y_pred)={np.argmax(y_pred)}\" )"
   ]
  },
  {
   "cell_type": "code",
   "execution_count": null,
   "metadata": {},
   "outputs": [],
   "source": [
    "# extract the predicted probabilities\n",
    "from unicodedata import digit\n",
    "\n",
    "\n",
    "p_pred = model.predict(x_test)\n",
    "p_pred = p_pred.flatten()\n",
    "print(p_pred.round(4))\n",
    "\n",
    "\n",
    "# extract the predicted class labels\n",
    "y_pred = np.where(p_pred > 0.5, 1, 0)\n",
    "print(y_pred)\n",
    "\n",
    "print(confusion_matrix(y_test, y_pred))\n",
    "\n",
    "\n",
    "print(classification_report(y_test, y_pred, digits=6))"
   ]
  }
 ],
 "metadata": {
  "accelerator": "GPU",
  "colab": {
   "authorship_tag": "ABX9TyN+j8K7DZmig4DbZJKDxSey",
   "collapsed_sections": [],
   "name": "MLP.ipynb",
   "provenance": []
  },
  "kernelspec": {
   "display_name": "Python 3.9.12 ('base')",
   "language": "python",
   "name": "python3"
  },
  "language_info": {
   "codemirror_mode": {
    "name": "ipython",
    "version": 3
   },
   "file_extension": ".py",
   "mimetype": "text/x-python",
   "name": "python",
   "nbconvert_exporter": "python",
   "pygments_lexer": "ipython3",
   "version": "3.9.12"
  },
  "vscode": {
   "interpreter": {
    "hash": "d5548b185d26bab709aace6faf35cbe1dbc030502640145edd72f76facd763b5"
   }
  }
 },
 "nbformat": 4,
 "nbformat_minor": 1
}
